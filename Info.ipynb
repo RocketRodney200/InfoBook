{
 "cells": [
  {
   "cell_type": "code",
   "execution_count": null,
   "id": "554eb13b-c51a-4dc5-869a-9224f141c6fd",
   "metadata": {},
   "outputs": [],
   "source": [
    "import json\n",
    "namelst=[]\n",
    "phonelst=[]\n",
    "addresslst=[]\n",
    "emaillst=[]\n",
    "yearlst=[]\n",
    "agelst=[]\n",
    "questionlst=[]"
   ]
  },
  {
   "cell_type": "code",
   "execution_count": null,
   "id": "2299a104-b4c1-4d12-bc86-f87a6b612f0c",
   "metadata": {},
   "outputs": [],
   "source": [
    "def add_contact():\n",
    "\n",
    "    myname=input(\"Please enter your name:\")\n",
    "    namelst.append(myname)\n",
    "    print(namelst[-1])\n",
    "    phone=input(\"What is your phone number?\")\n",
    "    phonelst.append(phone)\n",
    "    print(phonelst[-1])\n",
    "    address=input(\"What is your address?\")\n",
    "    addresslst.append(address)\n",
    "    print(addresslst[-1])\n",
    "    email=input(\"What is your email address?\")\n",
    "    emaillst.append(email)\n",
    "    print(emaillst[-1])\n",
    "    year=input(\"What year were you born?\")\n",
    "    year=int(year)\n",
    "    age=2023-year\n",
    "    yearlst.append(year)\n",
    "    print(yearlst[-1])\n",
    "    question=input(\"Have you had your birthday this year?(y/n):\")\n",
    "    questionlst.append(question)\n",
    "    print(questionlst[-1])\n",
    "    if question==\"n\":\n",
    "        age=age-1\n",
    "    print(\"You are\", age, \"years old\")"
   ]
  },
  {
   "cell_type": "code",
   "execution_count": 14,
   "id": "64457db7-1dff-4dd6-80e8-a2d6fc61885d",
   "metadata": {},
   "outputs": [
    {
     "data": {
      "text/plain": [
       "[]"
      ]
     },
     "execution_count": 14,
     "metadata": {},
     "output_type": "execute_result"
    }
   ],
   "source": [
    "namelst"
   ]
  },
  {
   "cell_type": "code",
   "execution_count": 15,
   "id": "a0486327-a249-4f1a-b0d0-0d56c16b8bb6",
   "metadata": {},
   "outputs": [
    {
     "data": {
      "text/plain": [
       "[]"
      ]
     },
     "execution_count": 15,
     "metadata": {},
     "output_type": "execute_result"
    }
   ],
   "source": [
    "emaillst"
   ]
  },
  {
   "cell_type": "code",
   "execution_count": 16,
   "id": "737f8a4b-d503-4ab8-bf37-79eca751f4cd",
   "metadata": {},
   "outputs": [],
   "source": [
    "def view_contacts ():\n",
    "    number=len(namelst)\n",
    "    for i in range(number):\n",
    "        print(namelst[i])\n",
    "        print(phonelst[i])\n",
    "        print(addresslst[i])\n",
    "        print(emaillst[i])\n",
    "        print(yearlst[i])\n",
    "        print(questionlst[i])\n",
    "        print()"
   ]
  },
  {
   "cell_type": "code",
   "execution_count": 17,
   "id": "20422716-4077-49df-85fb-9fe7cea42a13",
   "metadata": {
    "tags": []
   },
   "outputs": [
    {
     "ename": "NameError",
     "evalue": "name 'number' is not defined",
     "output_type": "error",
     "traceback": [
      "\u001b[0;31m---------------------------------------------------------------------------\u001b[0m",
      "\u001b[0;31mNameError\u001b[0m                                 Traceback (most recent call last)",
      "Cell \u001b[0;32mIn[17], line 2\u001b[0m\n\u001b[1;32m      1\u001b[0m i\u001b[38;5;241m=\u001b[39m\u001b[38;5;241m0\u001b[39m\n\u001b[0;32m----> 2\u001b[0m \u001b[38;5;28;01mwhile\u001b[39;00m i \u001b[38;5;241m<\u001b[39m \u001b[43mnumber\u001b[49m:\n\u001b[1;32m      3\u001b[0m     \u001b[38;5;28mprint\u001b[39m(namelst[i])\n\u001b[1;32m      4\u001b[0m     \u001b[38;5;28mprint\u001b[39m(phonelst[i])\n",
      "\u001b[0;31mNameError\u001b[0m: name 'number' is not defined"
     ]
    }
   ],
   "source": [
    "i=0\n",
    "while i < number:\n",
    "    print(namelst[i])\n",
    "    print(phonelst[i])\n",
    "    print(addresslst[i])\n",
    "    print(emaillst[i])\n",
    "    print(yearlst[i])\n",
    "    print(questionlst[i])\n",
    "    print()\n",
    "    i +=1"
   ]
  },
  {
   "cell_type": "code",
   "execution_count": null,
   "id": "606cadc5-066c-4388-b483-d2077137a9c2",
   "metadata": {},
   "outputs": [
    {
     "name": "stdout",
     "output_type": "stream",
     "text": [
      "1. Add someone new:\n",
      "2. Contacts:\n",
      "3. Save\n",
      "4. Read\n",
      "5. Exit\n"
     ]
    },
    {
     "name": "stdin",
     "output_type": "stream",
     "text": [
      "What would you like to do?:  3\n"
     ]
    },
    {
     "name": "stdout",
     "output_type": "stream",
     "text": [
      "\n",
      "Your contacts have been saved!\n",
      "1. Add someone new:\n",
      "2. Contacts:\n",
      "3. Save\n",
      "4. Read\n",
      "5. Exit\n"
     ]
    },
    {
     "name": "stdin",
     "output_type": "stream",
     "text": [
      "What would you like to do?:  4\n"
     ]
    },
    {
     "name": "stdout",
     "output_type": "stream",
     "text": [
      "\n",
      "You have read the information.\n",
      "1. Add someone new:\n",
      "2. Contacts:\n",
      "3. Save\n",
      "4. Read\n",
      "5. Exit\n"
     ]
    },
    {
     "name": "stdin",
     "output_type": "stream",
     "text": [
      "What would you like to do?:  2\n"
     ]
    },
    {
     "name": "stdout",
     "output_type": "stream",
     "text": [
      "\n",
      "I would like to see my contacts.\n",
      "Randeep\n",
      "7329975148\n",
      "Turtle Street\n",
      "randeepkalra1@gmail.com\n",
      "2008\n",
      "y\n",
      "\n",
      "Joe\n",
      "75657575758\n",
      "8 Hill Drive\n",
      "joerandom0@gmail.com\n",
      "1894\n",
      "y\n",
      "\n",
      "\n",
      "1. Add someone new:\n",
      "2. Contacts:\n",
      "3. Save\n",
      "4. Read\n",
      "5. Exit\n"
     ]
    }
   ],
   "source": [
    "action=-1\n",
    "while action  != 5:\n",
    "    print(\"1. Add someone new:\")\n",
    "    print(\"2. Contacts:\")\n",
    "    print(\"3. Save\")\n",
    "    print(\"4. Read\")\n",
    "    print(\"5. Exit\")\n",
    "    action = int (input (\"What would you like to do?: \"))\n",
    "    print()\n",
    "    if action==1:\n",
    "        print(\"I would like to add someone new.\")\n",
    "        add_contact()\n",
    "        print()\n",
    "    elif action==2:\n",
    "        print(\"I would like to see my contacts.\")\n",
    "        view_contacts()\n",
    "        print()\n",
    "    elif action ==3:\n",
    "        # Serializing json\n",
    "        json_object = json.dumps([namelst,phonelst,addresslst,emaillst,yearlst,questionlst], indent=4)\n",
    "        # Writing to sample.json\n",
    "        with open(\"sample.json\", \"w\") as outfile:\n",
    "            outfile.write(json_object)# Serializing json\n",
    "        print(\"Your contacts have been saved!\")\n",
    "    elif action ==4:\n",
    "        with open(\"sample.json\", \"r\") as f: \n",
    "            data = json.load(f)\n",
    "            namelst = data[0]\n",
    "            phonelst = data[1]\n",
    "            addresslst = data[2]\n",
    "            emaillst = data[3]\n",
    "            yearlst = data[4]\n",
    "            questionlst = data[5]\n",
    "        print(\"You have read the information.\")\n",
    "    elif action==5:\n",
    "        print(\"You have exited the app.\")\n",
    "        print()\n",
    "    else:\n",
    "        print(\"Sorry, that response is invalid.\")"
   ]
  },
  {
   "cell_type": "code",
   "execution_count": null,
   "id": "193992ac-c454-41b1-9dc8-42f900be3886",
   "metadata": {},
   "outputs": [],
   "source": []
  },
  {
   "cell_type": "code",
   "execution_count": null,
   "id": "734995d9-55f2-4bf6-9e61-8f82020e9ab9",
   "metadata": {},
   "outputs": [],
   "source": []
  },
  {
   "cell_type": "code",
   "execution_count": null,
   "id": "bc0cca59-7b51-495a-bee9-70f4c07b7aaa",
   "metadata": {},
   "outputs": [],
   "source": []
  }
 ],
 "metadata": {
  "kernelspec": {
   "display_name": "Python 3 (ipykernel)",
   "language": "python",
   "name": "python3"
  },
  "language_info": {
   "codemirror_mode": {
    "name": "ipython",
    "version": 3
   },
   "file_extension": ".py",
   "mimetype": "text/x-python",
   "name": "python",
   "nbconvert_exporter": "python",
   "pygments_lexer": "ipython3",
   "version": "3.10.9"
  }
 },
 "nbformat": 4,
 "nbformat_minor": 5
}
